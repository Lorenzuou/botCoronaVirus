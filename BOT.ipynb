{
 "cells": [
  {
   "cell_type": "code",
   "execution_count": 1,
   "metadata": {},
   "outputs": [],
   "source": [
    "import tweepy \n",
    "import requests\n",
    "import json\n",
    "import pandas as pd\n",
    "import importlib as ip\n",
    "from decouple import config\n",
    "\n",
    "\n",
    "\n",
    "acesso = ip.import_module('acesso')\n",
    "\n",
    "\n",
    "consumer_key = 'gZoyUUQ4uAM0bSDXxdoIk2VXx'\n",
    "consumer_secret = 'A0jsAZBembJyBzjrtXBLRdh5hlba4A8ACx2Hfg0RnfwJ4kLHla'\n",
    "access_token = '1291179065093885952-KjQCCXL8hHTRE9PZxKONyUNvSkwy3F'\n",
    "access_token_secret = 'WCxPYv3sjBxSfmQ8yC4SSOB90b5GSg9tp9mIkevjsq3Kq'\n"
   ]
  },
  {
   "cell_type": "code",
   "execution_count": null,
   "metadata": {},
   "outputs": [],
   "source": []
  },
  {
   "cell_type": "code",
   "execution_count": 2,
   "metadata": {},
   "outputs": [
    {
     "name": "stdout",
     "output_type": "stream",
     "text": [
      "Status coronavirus no ES\n"
     ]
    }
   ],
   "source": [
    "auth = tweepy.OAuthHandler(consumer_key, consumer_secret)\n",
    "auth.set_access_token(access_token, access_token_secret)\n",
    "api = tweepy.API(auth)\n",
    "user = api.me()\n",
    "print (user.name)"
   ]
  },
  {
   "cell_type": "code",
   "execution_count": 46,
   "metadata": {},
   "outputs": [
    {
     "name": "stdout",
     "output_type": "stream",
     "text": [
      "Seguindo todos que seguem Status coronavirus no ES\n"
     ]
    }
   ],
   "source": [
    "\n",
    "for follower in tweepy.Cursor(api.followers).items():    \n",
    "\tfollower.follow()    \n",
    "\tprint (\"Seguindo todos que seguem \" + user.name)\n"
   ]
  },
  {
   "cell_type": "code",
   "execution_count": 3,
   "metadata": {},
   "outputs": [],
   "source": [
    "requisicao = requests.get('https://brasil.io/api/dataset/covid19/caso/data/?format=json')\n"
   ]
  },
  {
   "cell_type": "code",
   "execution_count": 4,
   "metadata": {},
   "outputs": [],
   "source": [
    "\n",
    "a = json.loads(requisicao.text)\n",
    "df = pd.json_normalize(a, ['results'])\n",
    "df = df.loc[(df['state'] == 'ES')]\n",
    "df = df.reset_index()\n",
    "\n",
    "\n",
    "\n",
    "\n"
   ]
  },
  {
   "cell_type": "code",
   "execution_count": 7,
   "metadata": {},
   "outputs": [
    {
     "name": "stdout",
     "output_type": "stream",
     "text": [
      "nao\n",
      "   index  city city_ibge_code  confirmed  confirmed_per_100k_inhabitants  \\\n",
      "0    132  None             32      91791                      2284.12527   \n",
      "\n",
      "         date  death_rate  deaths  estimated_population_2019  is_last  \\\n",
      "0  2020-08-09      0.0298    2735                  4018650.0     True   \n",
      "\n",
      "   order_for_place place_type state  \n",
      "0              157      state    ES  \n",
      "opa\n",
      "   Unnamed: 0  index  city  city_ibge_code  confirmed  \\\n",
      "0           0    712   NaN              32      91146   \n",
      "\n",
      "   confirmed_per_100k_inhabitants        date  death_rate  deaths  \\\n",
      "0                       2268.0751  2020-08-08      0.0298    2720   \n",
      "\n",
      "   estimated_population_2019  is_last  order_for_place place_type state  \n",
      "0                  4018650.0     True              156      state    ES  \n"
     ]
    }
   ],
   "source": [
    "dfAnterior = pd.read_csv('anterior.csv')\n",
    "if dfAnterior.equals(df):\n",
    "    print('sim')\n",
    "else: \n",
    "    print('nao')\n",
    "    print(df)\n",
    "    print(\"opa\")\n",
    "    print(dfAnterior)\n"
   ]
  },
  {
   "cell_type": "code",
   "execution_count": 9,
   "metadata": {},
   "outputs": [
    {
     "name": "stdout",
     "output_type": "stream",
     "text": [
      "15\n",
      "645\n"
     ]
    }
   ],
   "source": [
    "\n",
    "totalMortes = df.loc[df.last_valid_index(),'deaths'] - dfAnterior.loc[df.last_valid_index(),'deaths']\n",
    "print(totalMortes)\n",
    "\n",
    "totalCasos = df.loc[df.last_valid_index(),'confirmed'] - dfAnterior.loc[df.last_valid_index(),'confirmed']\n",
    "print(totalCasos)\n"
   ]
  },
  {
   "cell_type": "code",
   "execution_count": 51,
   "metadata": {},
   "outputs": [],
   "source": []
  },
  {
   "cell_type": "code",
   "execution_count": 10,
   "metadata": {},
   "outputs": [
    {
     "data": {
      "text/plain": [
       "Status(_api=<tweepy.api.API object at 0x7ff000fb8a20>, _json={'created_at': 'Sun Aug 09 23:38:03 +0000 2020', 'id': 1292606097539371008, 'id_str': '1292606097539371008', 'text': 'Hoje foram registradas 15 mortes por corona virus no ES e 645 novos casos.', 'truncated': False, 'entities': {'hashtags': [], 'symbols': [], 'user_mentions': [], 'urls': []}, 'source': '', 'in_reply_to_status_id': None, 'in_reply_to_status_id_str': None, 'in_reply_to_user_id': None, 'in_reply_to_user_id_str': None, 'in_reply_to_screen_name': None, 'user': {'id': 1291179065093885952, 'id_str': '1291179065093885952', 'name': 'Status coronavirus no ES', 'screen_name': 'covidESbot', 'location': '', 'description': 'Olá! Eu sou um bot em construção\\nAinda não sou confiável!!!\\n\\nfeito por https://t.co/UePgJl8ff8', 'url': None, 'entities': {'description': {'urls': [{'url': 'https://t.co/UePgJl8ff8', 'expanded_url': 'https://github.com/Lorenzuou/botCoronaVirus', 'display_url': 'github.com/Lorenzuou/botC…', 'indices': [71, 94]}]}}, 'protected': False, 'followers_count': 1, 'friends_count': 2, 'listed_count': 0, 'created_at': 'Thu Aug 06 01:07:38 +0000 2020', 'favourites_count': 0, 'utc_offset': None, 'time_zone': None, 'geo_enabled': False, 'verified': False, 'statuses_count': 2, 'lang': None, 'contributors_enabled': False, 'is_translator': False, 'is_translation_enabled': False, 'profile_background_color': 'F5F8FA', 'profile_background_image_url': None, 'profile_background_image_url_https': None, 'profile_background_tile': False, 'profile_image_url': 'http://pbs.twimg.com/profile_images/1292144985094094848/ZPUKfDmP_normal.jpg', 'profile_image_url_https': 'https://pbs.twimg.com/profile_images/1292144985094094848/ZPUKfDmP_normal.jpg', 'profile_link_color': '1DA1F2', 'profile_sidebar_border_color': 'C0DEED', 'profile_sidebar_fill_color': 'DDEEF6', 'profile_text_color': '333333', 'profile_use_background_image': True, 'has_extended_profile': True, 'default_profile': True, 'default_profile_image': False, 'following': False, 'follow_request_sent': False, 'notifications': False, 'translator_type': 'none'}, 'geo': None, 'coordinates': None, 'place': None, 'contributors': None, 'is_quote_status': False, 'retweet_count': 0, 'favorite_count': 0, 'favorited': False, 'retweeted': False, 'lang': 'pt'}, created_at=datetime.datetime(2020, 8, 9, 23, 38, 3), id=1292606097539371008, id_str='1292606097539371008', text='Hoje foram registradas 15 mortes por corona virus no ES e 645 novos casos.', truncated=False, entities={'hashtags': [], 'symbols': [], 'user_mentions': [], 'urls': []}, source='', source_url=None, in_reply_to_status_id=None, in_reply_to_status_id_str=None, in_reply_to_user_id=None, in_reply_to_user_id_str=None, in_reply_to_screen_name=None, author=User(_api=<tweepy.api.API object at 0x7ff000fb8a20>, _json={'id': 1291179065093885952, 'id_str': '1291179065093885952', 'name': 'Status coronavirus no ES', 'screen_name': 'covidESbot', 'location': '', 'description': 'Olá! Eu sou um bot em construção\\nAinda não sou confiável!!!\\n\\nfeito por https://t.co/UePgJl8ff8', 'url': None, 'entities': {'description': {'urls': [{'url': 'https://t.co/UePgJl8ff8', 'expanded_url': 'https://github.com/Lorenzuou/botCoronaVirus', 'display_url': 'github.com/Lorenzuou/botC…', 'indices': [71, 94]}]}}, 'protected': False, 'followers_count': 1, 'friends_count': 2, 'listed_count': 0, 'created_at': 'Thu Aug 06 01:07:38 +0000 2020', 'favourites_count': 0, 'utc_offset': None, 'time_zone': None, 'geo_enabled': False, 'verified': False, 'statuses_count': 2, 'lang': None, 'contributors_enabled': False, 'is_translator': False, 'is_translation_enabled': False, 'profile_background_color': 'F5F8FA', 'profile_background_image_url': None, 'profile_background_image_url_https': None, 'profile_background_tile': False, 'profile_image_url': 'http://pbs.twimg.com/profile_images/1292144985094094848/ZPUKfDmP_normal.jpg', 'profile_image_url_https': 'https://pbs.twimg.com/profile_images/1292144985094094848/ZPUKfDmP_normal.jpg', 'profile_link_color': '1DA1F2', 'profile_sidebar_border_color': 'C0DEED', 'profile_sidebar_fill_color': 'DDEEF6', 'profile_text_color': '333333', 'profile_use_background_image': True, 'has_extended_profile': True, 'default_profile': True, 'default_profile_image': False, 'following': False, 'follow_request_sent': False, 'notifications': False, 'translator_type': 'none'}, id=1291179065093885952, id_str='1291179065093885952', name='Status coronavirus no ES', screen_name='covidESbot', location='', description='Olá! Eu sou um bot em construção\\nAinda não sou confiável!!!\\n\\nfeito por https://t.co/UePgJl8ff8', url=None, entities={'description': {'urls': [{'url': 'https://t.co/UePgJl8ff8', 'expanded_url': 'https://github.com/Lorenzuou/botCoronaVirus', 'display_url': 'github.com/Lorenzuou/botC…', 'indices': [71, 94]}]}}, protected=False, followers_count=1, friends_count=2, listed_count=0, created_at=datetime.datetime(2020, 8, 6, 1, 7, 38), favourites_count=0, utc_offset=None, time_zone=None, geo_enabled=False, verified=False, statuses_count=2, lang=None, contributors_enabled=False, is_translator=False, is_translation_enabled=False, profile_background_color='F5F8FA', profile_background_image_url=None, profile_background_image_url_https=None, profile_background_tile=False, profile_image_url='http://pbs.twimg.com/profile_images/1292144985094094848/ZPUKfDmP_normal.jpg', profile_image_url_https='https://pbs.twimg.com/profile_images/1292144985094094848/ZPUKfDmP_normal.jpg', profile_link_color='1DA1F2', profile_sidebar_border_color='C0DEED', profile_sidebar_fill_color='DDEEF6', profile_text_color='333333', profile_use_background_image=True, has_extended_profile=True, default_profile=True, default_profile_image=False, following=False, follow_request_sent=False, notifications=False, translator_type='none'), user=User(_api=<tweepy.api.API object at 0x7ff000fb8a20>, _json={'id': 1291179065093885952, 'id_str': '1291179065093885952', 'name': 'Status coronavirus no ES', 'screen_name': 'covidESbot', 'location': '', 'description': 'Olá! Eu sou um bot em construção\\nAinda não sou confiável!!!\\n\\nfeito por https://t.co/UePgJl8ff8', 'url': None, 'entities': {'description': {'urls': [{'url': 'https://t.co/UePgJl8ff8', 'expanded_url': 'https://github.com/Lorenzuou/botCoronaVirus', 'display_url': 'github.com/Lorenzuou/botC…', 'indices': [71, 94]}]}}, 'protected': False, 'followers_count': 1, 'friends_count': 2, 'listed_count': 0, 'created_at': 'Thu Aug 06 01:07:38 +0000 2020', 'favourites_count': 0, 'utc_offset': None, 'time_zone': None, 'geo_enabled': False, 'verified': False, 'statuses_count': 2, 'lang': None, 'contributors_enabled': False, 'is_translator': False, 'is_translation_enabled': False, 'profile_background_color': 'F5F8FA', 'profile_background_image_url': None, 'profile_background_image_url_https': None, 'profile_background_tile': False, 'profile_image_url': 'http://pbs.twimg.com/profile_images/1292144985094094848/ZPUKfDmP_normal.jpg', 'profile_image_url_https': 'https://pbs.twimg.com/profile_images/1292144985094094848/ZPUKfDmP_normal.jpg', 'profile_link_color': '1DA1F2', 'profile_sidebar_border_color': 'C0DEED', 'profile_sidebar_fill_color': 'DDEEF6', 'profile_text_color': '333333', 'profile_use_background_image': True, 'has_extended_profile': True, 'default_profile': True, 'default_profile_image': False, 'following': False, 'follow_request_sent': False, 'notifications': False, 'translator_type': 'none'}, id=1291179065093885952, id_str='1291179065093885952', name='Status coronavirus no ES', screen_name='covidESbot', location='', description='Olá! Eu sou um bot em construção\\nAinda não sou confiável!!!\\n\\nfeito por https://t.co/UePgJl8ff8', url=None, entities={'description': {'urls': [{'url': 'https://t.co/UePgJl8ff8', 'expanded_url': 'https://github.com/Lorenzuou/botCoronaVirus', 'display_url': 'github.com/Lorenzuou/botC…', 'indices': [71, 94]}]}}, protected=False, followers_count=1, friends_count=2, listed_count=0, created_at=datetime.datetime(2020, 8, 6, 1, 7, 38), favourites_count=0, utc_offset=None, time_zone=None, geo_enabled=False, verified=False, statuses_count=2, lang=None, contributors_enabled=False, is_translator=False, is_translation_enabled=False, profile_background_color='F5F8FA', profile_background_image_url=None, profile_background_image_url_https=None, profile_background_tile=False, profile_image_url='http://pbs.twimg.com/profile_images/1292144985094094848/ZPUKfDmP_normal.jpg', profile_image_url_https='https://pbs.twimg.com/profile_images/1292144985094094848/ZPUKfDmP_normal.jpg', profile_link_color='1DA1F2', profile_sidebar_border_color='C0DEED', profile_sidebar_fill_color='DDEEF6', profile_text_color='333333', profile_use_background_image=True, has_extended_profile=True, default_profile=True, default_profile_image=False, following=False, follow_request_sent=False, notifications=False, translator_type='none'), geo=None, coordinates=None, place=None, contributors=None, is_quote_status=False, retweet_count=0, favorite_count=0, favorited=False, retweeted=False, lang='pt')"
      ]
     },
     "execution_count": 10,
     "metadata": {},
     "output_type": "execute_result"
    }
   ],
   "source": [
    "mensagem = \"Hoje foram registradas \"+ str(totalMortes) +\" mortes por corona virus no ES e \" + str(totalCasos) + \" novos casos.\"\n",
    "api.update_status(mensagem)"
   ]
  },
  {
   "cell_type": "code",
   "execution_count": 11,
   "metadata": {},
   "outputs": [],
   "source": [
    "df.to_csv('anterior.csv')"
   ]
  },
  {
   "cell_type": "code",
   "execution_count": null,
   "metadata": {},
   "outputs": [],
   "source": []
  },
  {
   "cell_type": "code",
   "execution_count": null,
   "metadata": {},
   "outputs": [],
   "source": []
  }
 ],
 "metadata": {
  "kernelspec": {
   "display_name": "Python 3",
   "language": "python",
   "name": "python3"
  },
  "language_info": {
   "codemirror_mode": {
    "name": "ipython",
    "version": 3
   },
   "file_extension": ".py",
   "mimetype": "text/x-python",
   "name": "python",
   "nbconvert_exporter": "python",
   "pygments_lexer": "ipython3",
   "version": "3.6.9"
  }
 },
 "nbformat": 4,
 "nbformat_minor": 4
}
